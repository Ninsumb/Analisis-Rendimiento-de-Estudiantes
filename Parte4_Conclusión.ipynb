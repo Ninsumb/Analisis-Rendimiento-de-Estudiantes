{
 "cells": [
  {
   "cell_type": "markdown",
   "metadata": {},
   "source": [
    "## **Parte 4: Conclusión Final**"
   ]
  },
  {
   "cell_type": "markdown",
   "metadata": {},
   "source": [
    "Llegado el final del trabajo práctico, voy a hacer unos comentarios finales. Iré por partes:"
   ]
  },
  {
   "cell_type": "markdown",
   "metadata": {},
   "source": [
    "Primero, para el análisis empecé no estando muy segura de los datos. Me habrá llevado dos días arrancar con el proyecto y elegir un dataframe que considerara \"adecuado\" (esto va entre comillas porque la única percepción que tuve al principio de \"adecuado\" para el trabajo era el puntaje de Kaggle, después fui entiendiendo más).  \n",
    "\n",
    "Al final mi elección de la base de datos se debió a dos razones: la primera, que ya la dije, fue el puntaje en Kaggle, de 10.00. Pensé que era bastante confiable y que no iba a tener problemas con una base así, y tenía razón (aunque hubo momentos en los que dude por frustración). La segunda causa, más personal, es que me parecen interesantes las conclusiones que uno puede obtener al analizar el rendimiento escolar de los estudiantes. Al final me fue mejor más por la primera que por la segunda, y eso está perfecto, porque el trabajo era hacer la red neuronal y en eso me sirvió muchísimo tener un conjunto de datos confiable. Volviendo al segundo motivo y el por qué en ese sentido no sacie la curiosidad que tuve en un principio, hay que saber que estos datos eran artificales, por eso la única conclusión fuerte, vista la correlación de las columnas, es que a los estudiantes (hipotéticos) les va bien si estudian bastantes horas y asisten a clase. Ahora que sí sé cómo trabajar con este tipo de información, creo que estaría interesante ver correlaciones de otras bases con datos reales.  \n",
    "\n",
    "Hacer los gráficos y las transformaciones fue nutritivo para mí porque no estaba muy acostumbrada a usar Python. "
   ]
  },
  {
   "cell_type": "markdown",
   "metadata": {},
   "source": [
    "Luego, la parte donde tuve que hacer la red neuronal con numpy fue la más entretenida. Más que nada la parte de las matemáticas, con las matrices y las derivadas. Me hice un poco de lío con las dos también, pero lo pude resolver. Me resultaron fascinantes las redes neuronales porque las matemáticas tienen un peso fundamental en la construcción de ellas, y es la parte que se me hace más atractiva de la programación en general, su estrecha relación con las disciplinas exactas (de dependencia, más bien). Aprender a construir una red neuronal sin librerías especializadas tiene un sinfin de ventajas en cuanto a entender bien el asunto, cómo funcionan y qué son, más ahora mismo que lo de la inteligencia artificial suena en todas partes y que uno de afuera puede confundirse al tratar de entender de qué se trata. "
   ]
  },
  {
   "cell_type": "markdown",
   "metadata": {},
   "source": [
    "Librerías como Scikit-learn están optimizadas y en cuanto a rendimiento y tiempo de ejecución (y seguro en un montón de otras cuestiones) superan a mi red hecha a mano, pero para entender cómo funciona siento que hacerlo solo con numpy fue lo mejor. Scikit-learn como lo vimos parece más una caja negra que me devuelve un resultado, aunque seguro que también se puede aprender mucho experimentando más. "
   ]
  },
  {
   "cell_type": "markdown",
   "metadata": {},
   "source": [
    "Al terminar este trabajo, puedo decir que quede muy conforme con lo que aprendí y quiero seguir practicando (porque me falta muchísimo). En particular, esta es una materia que me motivó este cuatrimestre. Y para concluir, tengo que decir que estoy satisfecha con este proyecto. Me hubiese gustado tener más conocimiento de antemano para hacer algo más complejo, pero sé que de ahora en adelante, cuando me meta más a fondo, se me van a ocurrir ideas. Esta fue una buena forma de entrar en contacto con todo lo relacionado a aprendizaje autómatico."
   ]
  }
 ],
 "metadata": {
  "language_info": {
   "name": "python"
  }
 },
 "nbformat": 4,
 "nbformat_minor": 2
}
